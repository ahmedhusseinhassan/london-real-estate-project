{
 "cells": [
  {
   "cell_type": "code",
   "execution_count": 1,
   "id": "9b332c46",
   "metadata": {},
   "outputs": [],
   "source": [
    "import pandas as pd\n",
    "import numpy as np \n",
    "import pandas as pd\n",
    "import seaborn as sns\n",
    "import matplotlib.pyplot as plt"
   ]
  },
  {
   "cell_type": "code",
   "execution_count": 2,
   "id": "527794fe",
   "metadata": {},
   "outputs": [],
   "source": [
    "data=pd.read_excel(r'C:\\Users\\LapCell\\Downloads\\London House for Python and Tableau.xlsx')"
   ]
  },
  {
   "cell_type": "markdown",
   "id": "1adcd3d3",
   "metadata": {},
   "source": [
    "## dimention of data set"
   ]
  },
  {
   "cell_type": "code",
   "execution_count": 3,
   "id": "98141ecc",
   "metadata": {},
   "outputs": [
    {
     "data": {
      "text/plain": [
       "(226188, 22)"
      ]
     },
     "execution_count": 3,
     "metadata": {},
     "output_type": "execute_result"
    }
   ],
   "source": [
    "data .shape"
   ]
  },
  {
   "cell_type": "markdown",
   "id": "7fd53b1d",
   "metadata": {},
   "source": [
    "### dataset details"
   ]
  },
  {
   "cell_type": "code",
   "execution_count": 4,
   "id": "1a9607b0",
   "metadata": {},
   "outputs": [
    {
     "name": "stdout",
     "output_type": "stream",
     "text": [
      "<class 'pandas.core.frame.DataFrame'>\n",
      "RangeIndex: 226188 entries, 0 to 226187\n",
      "Data columns (total 22 columns):\n",
      " #   Column                        Non-Null Count   Dtype         \n",
      "---  ------                        --------------   -----         \n",
      " 0   fullAddress                   226188 non-null  object        \n",
      " 1   postcode                      226188 non-null  object        \n",
      " 2   country                       226188 non-null  object        \n",
      " 3   latitude                      226188 non-null  float64       \n",
      " 4   longitude                     226188 non-null  float64       \n",
      " 5   bathrooms                     226188 non-null  int64         \n",
      " 6   bedrooms                      226188 non-null  int64         \n",
      " 7   floorAreaSqM                  220098 non-null  float64       \n",
      " 8   livingRooms                   222584 non-null  float64       \n",
      " 9   tenure                        226188 non-null  object        \n",
      " 10  propertyType                  226187 non-null  object        \n",
      " 11  rentEstimate_lowerPrice       225784 non-null  float64       \n",
      " 12  rentEstimate_currentPrice     225784 non-null  float64       \n",
      " 13  rentEstimate_upperPrice       225784 non-null  float64       \n",
      " 14  saleEstimate_lowerPrice       225801 non-null  float64       \n",
      " 15  saleEstimate_currentPrice     225801 non-null  float64       \n",
      " 16  saleEstimate_upperPrice       225801 non-null  float64       \n",
      " 17  saleEstimate_confidenceLevel  225801 non-null  object        \n",
      " 18  currentDate                   225801 non-null  datetime64[ns]\n",
      " 19  numericChange                 225801 non-null  float64       \n",
      " 20  history_date                  226188 non-null  datetime64[ns]\n",
      " 21  history_price                 226188 non-null  int64         \n",
      "dtypes: datetime64[ns](2), float64(11), int64(3), object(6)\n",
      "memory usage: 38.0+ MB\n"
     ]
    }
   ],
   "source": [
    "data.info()"
   ]
  },
  {
   "cell_type": "markdown",
   "id": "9986c57b",
   "metadata": {},
   "source": [
    "### finding values of property type"
   ]
  },
  {
   "cell_type": "code",
   "execution_count": 5,
   "id": "b8c597f1",
   "metadata": {},
   "outputs": [
    {
     "data": {
      "text/plain": [
       "array(['Flat/Maisonette', 'Purpose Built Flat', 'Converted Flat',\n",
       "       'Mid Terrace House', 'Terrace Property', 'End Terrace House',\n",
       "       'Semi-Detached House', 'Detached House', 'Terraced',\n",
       "       'End Terrace Property', 'Detached Bungalow',\n",
       "       'Semi-Detached Bungalow', 'Bungalow Property', 'Terraced Bungalow',\n",
       "       'End Terrace Bungalow', 'Mid Terrace Bungalow',\n",
       "       'Mid Terrace Property', 'Semi-Detached Property',\n",
       "       'Detached Property', nan], dtype=object)"
      ]
     },
     "execution_count": 5,
     "metadata": {},
     "output_type": "execute_result"
    }
   ],
   "source": [
    "data['propertyType'].unique()"
   ]
  },
  {
   "cell_type": "markdown",
   "id": "ac222e67",
   "metadata": {},
   "source": [
    "### finding values of tenure"
   ]
  },
  {
   "cell_type": "code",
   "execution_count": 7,
   "id": "736834dd",
   "metadata": {},
   "outputs": [
    {
     "data": {
      "text/plain": [
       "array(['Freehold', 'Leasehold', 'Feudal', 'Shared'], dtype=object)"
      ]
     },
     "execution_count": 7,
     "metadata": {},
     "output_type": "execute_result"
    }
   ],
   "source": [
    "data['tenure'].unique()"
   ]
  },
  {
   "cell_type": "markdown",
   "id": "a6b01208",
   "metadata": {},
   "source": [
    "### data types"
   ]
  },
  {
   "cell_type": "code",
   "execution_count": 9,
   "id": "6076df78",
   "metadata": {},
   "outputs": [
    {
     "data": {
      "text/plain": [
       "fullAddress                             object\n",
       "postcode                                object\n",
       "country                                 object\n",
       "latitude                               float64\n",
       "longitude                              float64\n",
       "bathrooms                                int64\n",
       "bedrooms                                 int64\n",
       "floorAreaSqM                           float64\n",
       "livingRooms                            float64\n",
       "tenure                                  object\n",
       "propertyType                            object\n",
       "rentEstimate_lowerPrice                float64\n",
       "rentEstimate_currentPrice              float64\n",
       "rentEstimate_upperPrice                float64\n",
       "saleEstimate_lowerPrice                float64\n",
       "saleEstimate_currentPrice              float64\n",
       "saleEstimate_upperPrice                float64\n",
       "saleEstimate_confidenceLevel            object\n",
       "currentDate                     datetime64[ns]\n",
       "numericChange                          float64\n",
       "history_date                    datetime64[ns]\n",
       "history_price                            int64\n",
       "dtype: object"
      ]
     },
     "execution_count": 9,
     "metadata": {},
     "output_type": "execute_result"
    }
   ],
   "source": [
    "data.dtypes"
   ]
  },
  {
   "cell_type": "markdown",
   "id": "2fd4d57e",
   "metadata": {},
   "source": [
    "### display the head of data set"
   ]
  },
  {
   "cell_type": "code",
   "execution_count": 5,
   "id": "7fc0adaa",
   "metadata": {},
   "outputs": [
    {
     "data": {
      "text/html": [
       "<div>\n",
       "<style scoped>\n",
       "    .dataframe tbody tr th:only-of-type {\n",
       "        vertical-align: middle;\n",
       "    }\n",
       "\n",
       "    .dataframe tbody tr th {\n",
       "        vertical-align: top;\n",
       "    }\n",
       "\n",
       "    .dataframe thead th {\n",
       "        text-align: right;\n",
       "    }\n",
       "</style>\n",
       "<table border=\"1\" class=\"dataframe\">\n",
       "  <thead>\n",
       "    <tr style=\"text-align: right;\">\n",
       "      <th></th>\n",
       "      <th>fullAddress</th>\n",
       "      <th>postcode</th>\n",
       "      <th>country</th>\n",
       "      <th>latitude</th>\n",
       "      <th>longitude</th>\n",
       "      <th>bathrooms</th>\n",
       "      <th>bedrooms</th>\n",
       "      <th>floorAreaSqM</th>\n",
       "      <th>livingRooms</th>\n",
       "      <th>tenure</th>\n",
       "      <th>...</th>\n",
       "      <th>rentEstimate_currentPrice</th>\n",
       "      <th>rentEstimate_upperPrice</th>\n",
       "      <th>saleEstimate_lowerPrice</th>\n",
       "      <th>saleEstimate_currentPrice</th>\n",
       "      <th>saleEstimate_upperPrice</th>\n",
       "      <th>saleEstimate_confidenceLevel</th>\n",
       "      <th>currentDate</th>\n",
       "      <th>numericChange</th>\n",
       "      <th>history_date</th>\n",
       "      <th>history_price</th>\n",
       "    </tr>\n",
       "  </thead>\n",
       "  <tbody>\n",
       "    <tr>\n",
       "      <th>0</th>\n",
       "      <td>1 Guinness Court, Mansell Street, London, E1 8AB</td>\n",
       "      <td>E1 8AB</td>\n",
       "      <td>England</td>\n",
       "      <td>51.512982</td>\n",
       "      <td>-0.073698</td>\n",
       "      <td>1</td>\n",
       "      <td>2</td>\n",
       "      <td>79.0</td>\n",
       "      <td>NaN</td>\n",
       "      <td>Freehold</td>\n",
       "      <td>...</td>\n",
       "      <td>2550.0</td>\n",
       "      <td>2800.0</td>\n",
       "      <td>444000.0</td>\n",
       "      <td>555000.0</td>\n",
       "      <td>666000.0</td>\n",
       "      <td>LOW</td>\n",
       "      <td>2024-10-07</td>\n",
       "      <td>-29445000.0</td>\n",
       "      <td>2020-03-27</td>\n",
       "      <td>30000000</td>\n",
       "    </tr>\n",
       "    <tr>\n",
       "      <th>1</th>\n",
       "      <td>306 Marlyn Lodge, 2 Portsoken Street, London, ...</td>\n",
       "      <td>E1 8RB</td>\n",
       "      <td>England</td>\n",
       "      <td>51.511881</td>\n",
       "      <td>-0.073471</td>\n",
       "      <td>1</td>\n",
       "      <td>1</td>\n",
       "      <td>54.0</td>\n",
       "      <td>1.0</td>\n",
       "      <td>Leasehold</td>\n",
       "      <td>...</td>\n",
       "      <td>2300.0</td>\n",
       "      <td>2450.0</td>\n",
       "      <td>447000.0</td>\n",
       "      <td>496000.0</td>\n",
       "      <td>546000.0</td>\n",
       "      <td>MEDIUM</td>\n",
       "      <td>2024-10-07</td>\n",
       "      <td>46000.0</td>\n",
       "      <td>2022-09-16</td>\n",
       "      <td>450000</td>\n",
       "    </tr>\n",
       "    <tr>\n",
       "      <th>2</th>\n",
       "      <td>Flat 1, White Rose Court, Widegate Street, Lon...</td>\n",
       "      <td>E1 7ES</td>\n",
       "      <td>England</td>\n",
       "      <td>51.517972</td>\n",
       "      <td>-0.078028</td>\n",
       "      <td>2</td>\n",
       "      <td>2</td>\n",
       "      <td>73.0</td>\n",
       "      <td>1.0</td>\n",
       "      <td>Leasehold</td>\n",
       "      <td>...</td>\n",
       "      <td>3000.0</td>\n",
       "      <td>3250.0</td>\n",
       "      <td>619000.0</td>\n",
       "      <td>651000.0</td>\n",
       "      <td>684000.0</td>\n",
       "      <td>HIGH</td>\n",
       "      <td>2024-10-07</td>\n",
       "      <td>28000.0</td>\n",
       "      <td>2023-10-31</td>\n",
       "      <td>623000</td>\n",
       "    </tr>\n",
       "    <tr>\n",
       "      <th>3</th>\n",
       "      <td>Flat 1, White Rose Court, Widegate Street, Lon...</td>\n",
       "      <td>E1 7ES</td>\n",
       "      <td>England</td>\n",
       "      <td>51.517972</td>\n",
       "      <td>-0.078028</td>\n",
       "      <td>2</td>\n",
       "      <td>2</td>\n",
       "      <td>73.0</td>\n",
       "      <td>1.0</td>\n",
       "      <td>Leasehold</td>\n",
       "      <td>...</td>\n",
       "      <td>3000.0</td>\n",
       "      <td>3250.0</td>\n",
       "      <td>619000.0</td>\n",
       "      <td>651000.0</td>\n",
       "      <td>684000.0</td>\n",
       "      <td>HIGH</td>\n",
       "      <td>2024-10-07</td>\n",
       "      <td>28000.0</td>\n",
       "      <td>2016-03-23</td>\n",
       "      <td>600000</td>\n",
       "    </tr>\n",
       "    <tr>\n",
       "      <th>4</th>\n",
       "      <td>Flat 1, White Rose Court, Widegate Street, Lon...</td>\n",
       "      <td>E1 7ES</td>\n",
       "      <td>England</td>\n",
       "      <td>51.517972</td>\n",
       "      <td>-0.078028</td>\n",
       "      <td>2</td>\n",
       "      <td>2</td>\n",
       "      <td>73.0</td>\n",
       "      <td>1.0</td>\n",
       "      <td>Leasehold</td>\n",
       "      <td>...</td>\n",
       "      <td>3000.0</td>\n",
       "      <td>3250.0</td>\n",
       "      <td>619000.0</td>\n",
       "      <td>651000.0</td>\n",
       "      <td>684000.0</td>\n",
       "      <td>HIGH</td>\n",
       "      <td>2024-10-07</td>\n",
       "      <td>28000.0</td>\n",
       "      <td>2005-11-28</td>\n",
       "      <td>235000</td>\n",
       "    </tr>\n",
       "  </tbody>\n",
       "</table>\n",
       "<p>5 rows × 22 columns</p>\n",
       "</div>"
      ],
      "text/plain": [
       "                                         fullAddress postcode  country  \\\n",
       "0   1 Guinness Court, Mansell Street, London, E1 8AB   E1 8AB  England   \n",
       "1  306 Marlyn Lodge, 2 Portsoken Street, London, ...   E1 8RB  England   \n",
       "2  Flat 1, White Rose Court, Widegate Street, Lon...   E1 7ES  England   \n",
       "3  Flat 1, White Rose Court, Widegate Street, Lon...   E1 7ES  England   \n",
       "4  Flat 1, White Rose Court, Widegate Street, Lon...   E1 7ES  England   \n",
       "\n",
       "    latitude  longitude  bathrooms  bedrooms  floorAreaSqM  livingRooms  \\\n",
       "0  51.512982  -0.073698          1         2          79.0          NaN   \n",
       "1  51.511881  -0.073471          1         1          54.0          1.0   \n",
       "2  51.517972  -0.078028          2         2          73.0          1.0   \n",
       "3  51.517972  -0.078028          2         2          73.0          1.0   \n",
       "4  51.517972  -0.078028          2         2          73.0          1.0   \n",
       "\n",
       "      tenure  ... rentEstimate_currentPrice  rentEstimate_upperPrice  \\\n",
       "0   Freehold  ...                    2550.0                   2800.0   \n",
       "1  Leasehold  ...                    2300.0                   2450.0   \n",
       "2  Leasehold  ...                    3000.0                   3250.0   \n",
       "3  Leasehold  ...                    3000.0                   3250.0   \n",
       "4  Leasehold  ...                    3000.0                   3250.0   \n",
       "\n",
       "   saleEstimate_lowerPrice  saleEstimate_currentPrice  \\\n",
       "0                 444000.0                   555000.0   \n",
       "1                 447000.0                   496000.0   \n",
       "2                 619000.0                   651000.0   \n",
       "3                 619000.0                   651000.0   \n",
       "4                 619000.0                   651000.0   \n",
       "\n",
       "   saleEstimate_upperPrice  saleEstimate_confidenceLevel  currentDate  \\\n",
       "0                 666000.0                           LOW   2024-10-07   \n",
       "1                 546000.0                        MEDIUM   2024-10-07   \n",
       "2                 684000.0                          HIGH   2024-10-07   \n",
       "3                 684000.0                          HIGH   2024-10-07   \n",
       "4                 684000.0                          HIGH   2024-10-07   \n",
       "\n",
       "  numericChange history_date  history_price  \n",
       "0   -29445000.0   2020-03-27       30000000  \n",
       "1       46000.0   2022-09-16         450000  \n",
       "2       28000.0   2023-10-31         623000  \n",
       "3       28000.0   2016-03-23         600000  \n",
       "4       28000.0   2005-11-28         235000  \n",
       "\n",
       "[5 rows x 22 columns]"
      ]
     },
     "execution_count": 5,
     "metadata": {},
     "output_type": "execute_result"
    }
   ],
   "source": [
    "data.head()"
   ]
  },
  {
   "cell_type": "markdown",
   "id": "335ee1c3",
   "metadata": {},
   "source": [
    "### finding missing values"
   ]
  },
  {
   "cell_type": "code",
   "execution_count": 5,
   "id": "96a92914",
   "metadata": {},
   "outputs": [
    {
     "data": {
      "text/plain": [
       "fullAddress                        0\n",
       "postcode                           0\n",
       "country                            0\n",
       "latitude                           0\n",
       "longitude                          0\n",
       "bathrooms                          0\n",
       "bedrooms                           0\n",
       "floorAreaSqM                    6090\n",
       "livingRooms                     3604\n",
       "tenure                             0\n",
       "propertyType                       1\n",
       "rentEstimate_lowerPrice          404\n",
       "rentEstimate_currentPrice        404\n",
       "rentEstimate_upperPrice          404\n",
       "saleEstimate_lowerPrice          387\n",
       "saleEstimate_currentPrice        387\n",
       "saleEstimate_upperPrice          387\n",
       "saleEstimate_confidenceLevel     387\n",
       "currentDate                      387\n",
       "numericChange                    387\n",
       "history_date                       0\n",
       "history_price                      0\n",
       "dtype: int64"
      ]
     },
     "execution_count": 5,
     "metadata": {},
     "output_type": "execute_result"
    }
   ],
   "source": [
    "data.isnull().sum()"
   ]
  },
  {
   "cell_type": "markdown",
   "id": "66a97723",
   "metadata": {},
   "source": [
    "### drop null values"
   ]
  },
  {
   "cell_type": "code",
   "execution_count": 7,
   "id": "10a9407f",
   "metadata": {},
   "outputs": [],
   "source": [
    "data.dropna(inplace=True)"
   ]
  },
  {
   "cell_type": "code",
   "execution_count": 10,
   "id": "2e80af8a",
   "metadata": {},
   "outputs": [
    {
     "data": {
      "text/plain": [
       "fullAddress                     0\n",
       "postcode                        0\n",
       "country                         0\n",
       "latitude                        0\n",
       "longitude                       0\n",
       "bathrooms                       0\n",
       "bedrooms                        0\n",
       "floorAreaSqM                    0\n",
       "livingRooms                     0\n",
       "tenure                          0\n",
       "propertyType                    0\n",
       "rentEstimate_lowerPrice         0\n",
       "rentEstimate_currentPrice       0\n",
       "rentEstimate_upperPrice         0\n",
       "saleEstimate_lowerPrice         0\n",
       "saleEstimate_currentPrice       0\n",
       "saleEstimate_upperPrice         0\n",
       "saleEstimate_confidenceLevel    0\n",
       "currentDate                     0\n",
       "numericChange                   0\n",
       "history_date                    0\n",
       "history_price                   0\n",
       "dtype: int64"
      ]
     },
     "execution_count": 10,
     "metadata": {},
     "output_type": "execute_result"
    }
   ],
   "source": [
    "data.isnull().sum()"
   ]
  },
  {
   "cell_type": "markdown",
   "id": "e1dbbe4e",
   "metadata": {},
   "source": [
    "### finding duplicate values"
   ]
  },
  {
   "cell_type": "code",
   "execution_count": 12,
   "id": "eb84e739",
   "metadata": {},
   "outputs": [
    {
     "data": {
      "text/plain": [
       "402"
      ]
     },
     "execution_count": 12,
     "metadata": {},
     "output_type": "execute_result"
    }
   ],
   "source": [
    "data.duplicated().sum()"
   ]
  },
  {
   "cell_type": "markdown",
   "id": "e6a2732e",
   "metadata": {},
   "source": [
    "### drop duplicates"
   ]
  },
  {
   "cell_type": "code",
   "execution_count": 14,
   "id": "f971dc6e",
   "metadata": {},
   "outputs": [],
   "source": [
    "data.drop_duplicates(inplace=True)"
   ]
  },
  {
   "cell_type": "code",
   "execution_count": 15,
   "id": "64bfa122",
   "metadata": {},
   "outputs": [
    {
     "data": {
      "text/plain": [
       "0"
      ]
     },
     "execution_count": 15,
     "metadata": {},
     "output_type": "execute_result"
    }
   ],
   "source": [
    "data.duplicated().sum()"
   ]
  },
  {
   "cell_type": "code",
   "execution_count": 16,
   "id": "34b020d8",
   "metadata": {},
   "outputs": [
    {
     "data": {
      "text/html": [
       "<div>\n",
       "<style scoped>\n",
       "    .dataframe tbody tr th:only-of-type {\n",
       "        vertical-align: middle;\n",
       "    }\n",
       "\n",
       "    .dataframe tbody tr th {\n",
       "        vertical-align: top;\n",
       "    }\n",
       "\n",
       "    .dataframe thead th {\n",
       "        text-align: right;\n",
       "    }\n",
       "</style>\n",
       "<table border=\"1\" class=\"dataframe\">\n",
       "  <thead>\n",
       "    <tr style=\"text-align: right;\">\n",
       "      <th></th>\n",
       "      <th>latitude</th>\n",
       "      <th>longitude</th>\n",
       "      <th>bathrooms</th>\n",
       "      <th>bedrooms</th>\n",
       "      <th>floorAreaSqM</th>\n",
       "      <th>livingRooms</th>\n",
       "      <th>rentEstimate_lowerPrice</th>\n",
       "      <th>rentEstimate_currentPrice</th>\n",
       "      <th>rentEstimate_upperPrice</th>\n",
       "      <th>saleEstimate_lowerPrice</th>\n",
       "      <th>saleEstimate_currentPrice</th>\n",
       "      <th>saleEstimate_upperPrice</th>\n",
       "      <th>numericChange</th>\n",
       "      <th>history_price</th>\n",
       "    </tr>\n",
       "  </thead>\n",
       "  <tbody>\n",
       "    <tr>\n",
       "      <th>count</th>\n",
       "      <td>216098.000000</td>\n",
       "      <td>216098.000000</td>\n",
       "      <td>216098.000000</td>\n",
       "      <td>216098.000000</td>\n",
       "      <td>216098.000000</td>\n",
       "      <td>216098.000000</td>\n",
       "      <td>216098.000000</td>\n",
       "      <td>216098.000000</td>\n",
       "      <td>216098.000000</td>\n",
       "      <td>2.160980e+05</td>\n",
       "      <td>2.160980e+05</td>\n",
       "      <td>2.160980e+05</td>\n",
       "      <td>2.160980e+05</td>\n",
       "      <td>2.160980e+05</td>\n",
       "    </tr>\n",
       "    <tr>\n",
       "      <th>mean</th>\n",
       "      <td>51.508811</td>\n",
       "      <td>-0.102814</td>\n",
       "      <td>1.442609</td>\n",
       "      <td>2.523841</td>\n",
       "      <td>100.867463</td>\n",
       "      <td>1.297772</td>\n",
       "      <td>3160.598432</td>\n",
       "      <td>3489.386528</td>\n",
       "      <td>3818.368749</td>\n",
       "      <td>8.109100e+05</td>\n",
       "      <td>8.706533e+05</td>\n",
       "      <td>9.303914e+05</td>\n",
       "      <td>5.516844e+04</td>\n",
       "      <td>5.724944e+05</td>\n",
       "    </tr>\n",
       "    <tr>\n",
       "      <th>std</th>\n",
       "      <td>0.058684</td>\n",
       "      <td>0.091077</td>\n",
       "      <td>0.710235</td>\n",
       "      <td>1.169047</td>\n",
       "      <td>55.701204</td>\n",
       "      <td>0.578546</td>\n",
       "      <td>2738.801514</td>\n",
       "      <td>3023.095139</td>\n",
       "      <td>3308.736302</td>\n",
       "      <td>7.321280e+05</td>\n",
       "      <td>8.089719e+05</td>\n",
       "      <td>8.899668e+05</td>\n",
       "      <td>5.106000e+05</td>\n",
       "      <td>8.052007e+05</td>\n",
       "    </tr>\n",
       "    <tr>\n",
       "      <th>min</th>\n",
       "      <td>51.385708</td>\n",
       "      <td>-0.347055</td>\n",
       "      <td>1.000000</td>\n",
       "      <td>1.000000</td>\n",
       "      <td>10.000000</td>\n",
       "      <td>1.000000</td>\n",
       "      <td>300.000000</td>\n",
       "      <td>350.000000</td>\n",
       "      <td>400.000000</td>\n",
       "      <td>8.400000e+04</td>\n",
       "      <td>8.900000e+04</td>\n",
       "      <td>9.300000e+04</td>\n",
       "      <td>-9.914200e+07</td>\n",
       "      <td>1.000000e+04</td>\n",
       "    </tr>\n",
       "    <tr>\n",
       "      <th>25%</th>\n",
       "      <td>51.463409</td>\n",
       "      <td>-0.162311</td>\n",
       "      <td>1.000000</td>\n",
       "      <td>2.000000</td>\n",
       "      <td>64.000000</td>\n",
       "      <td>1.000000</td>\n",
       "      <td>1750.000000</td>\n",
       "      <td>1950.000000</td>\n",
       "      <td>2100.000000</td>\n",
       "      <td>4.190000e+05</td>\n",
       "      <td>4.460000e+05</td>\n",
       "      <td>4.720000e+05</td>\n",
       "      <td>1.300000e+04</td>\n",
       "      <td>2.250000e+05</td>\n",
       "    </tr>\n",
       "    <tr>\n",
       "      <th>50%</th>\n",
       "      <td>51.501430</td>\n",
       "      <td>-0.104924</td>\n",
       "      <td>1.000000</td>\n",
       "      <td>2.000000</td>\n",
       "      <td>86.000000</td>\n",
       "      <td>1.000000</td>\n",
       "      <td>2350.000000</td>\n",
       "      <td>2600.000000</td>\n",
       "      <td>2800.000000</td>\n",
       "      <td>5.820000e+05</td>\n",
       "      <td>6.190000e+05</td>\n",
       "      <td>6.570000e+05</td>\n",
       "      <td>3.600000e+04</td>\n",
       "      <td>3.925000e+05</td>\n",
       "    </tr>\n",
       "    <tr>\n",
       "      <th>75%</th>\n",
       "      <td>51.553124</td>\n",
       "      <td>-0.041985</td>\n",
       "      <td>2.000000</td>\n",
       "      <td>3.000000</td>\n",
       "      <td>120.000000</td>\n",
       "      <td>1.000000</td>\n",
       "      <td>3450.000000</td>\n",
       "      <td>3800.000000</td>\n",
       "      <td>4200.000000</td>\n",
       "      <td>9.050000e+05</td>\n",
       "      <td>9.660000e+05</td>\n",
       "      <td>1.026000e+06</td>\n",
       "      <td>8.300000e+04</td>\n",
       "      <td>6.500000e+05</td>\n",
       "    </tr>\n",
       "    <tr>\n",
       "      <th>max</th>\n",
       "      <td>51.665823</td>\n",
       "      <td>0.139249</td>\n",
       "      <td>9.000000</td>\n",
       "      <td>9.000000</td>\n",
       "      <td>500.000000</td>\n",
       "      <td>7.000000</td>\n",
       "      <td>71700.000000</td>\n",
       "      <td>77650.000000</td>\n",
       "      <td>83600.000000</td>\n",
       "      <td>1.606000e+07</td>\n",
       "      <td>1.784400e+07</td>\n",
       "      <td>1.962900e+07</td>\n",
       "      <td>7.719000e+06</td>\n",
       "      <td>1.000000e+08</td>\n",
       "    </tr>\n",
       "  </tbody>\n",
       "</table>\n",
       "</div>"
      ],
      "text/plain": [
       "            latitude      longitude      bathrooms       bedrooms  \\\n",
       "count  216098.000000  216098.000000  216098.000000  216098.000000   \n",
       "mean       51.508811      -0.102814       1.442609       2.523841   \n",
       "std         0.058684       0.091077       0.710235       1.169047   \n",
       "min        51.385708      -0.347055       1.000000       1.000000   \n",
       "25%        51.463409      -0.162311       1.000000       2.000000   \n",
       "50%        51.501430      -0.104924       1.000000       2.000000   \n",
       "75%        51.553124      -0.041985       2.000000       3.000000   \n",
       "max        51.665823       0.139249       9.000000       9.000000   \n",
       "\n",
       "        floorAreaSqM    livingRooms  rentEstimate_lowerPrice  \\\n",
       "count  216098.000000  216098.000000            216098.000000   \n",
       "mean      100.867463       1.297772              3160.598432   \n",
       "std        55.701204       0.578546              2738.801514   \n",
       "min        10.000000       1.000000               300.000000   \n",
       "25%        64.000000       1.000000              1750.000000   \n",
       "50%        86.000000       1.000000              2350.000000   \n",
       "75%       120.000000       1.000000              3450.000000   \n",
       "max       500.000000       7.000000             71700.000000   \n",
       "\n",
       "       rentEstimate_currentPrice  rentEstimate_upperPrice  \\\n",
       "count              216098.000000            216098.000000   \n",
       "mean                 3489.386528              3818.368749   \n",
       "std                  3023.095139              3308.736302   \n",
       "min                   350.000000               400.000000   \n",
       "25%                  1950.000000              2100.000000   \n",
       "50%                  2600.000000              2800.000000   \n",
       "75%                  3800.000000              4200.000000   \n",
       "max                 77650.000000             83600.000000   \n",
       "\n",
       "       saleEstimate_lowerPrice  saleEstimate_currentPrice  \\\n",
       "count             2.160980e+05               2.160980e+05   \n",
       "mean              8.109100e+05               8.706533e+05   \n",
       "std               7.321280e+05               8.089719e+05   \n",
       "min               8.400000e+04               8.900000e+04   \n",
       "25%               4.190000e+05               4.460000e+05   \n",
       "50%               5.820000e+05               6.190000e+05   \n",
       "75%               9.050000e+05               9.660000e+05   \n",
       "max               1.606000e+07               1.784400e+07   \n",
       "\n",
       "       saleEstimate_upperPrice  numericChange  history_price  \n",
       "count             2.160980e+05   2.160980e+05   2.160980e+05  \n",
       "mean              9.303914e+05   5.516844e+04   5.724944e+05  \n",
       "std               8.899668e+05   5.106000e+05   8.052007e+05  \n",
       "min               9.300000e+04  -9.914200e+07   1.000000e+04  \n",
       "25%               4.720000e+05   1.300000e+04   2.250000e+05  \n",
       "50%               6.570000e+05   3.600000e+04   3.925000e+05  \n",
       "75%               1.026000e+06   8.300000e+04   6.500000e+05  \n",
       "max               1.962900e+07   7.719000e+06   1.000000e+08  "
      ]
     },
     "execution_count": 16,
     "metadata": {},
     "output_type": "execute_result"
    }
   ],
   "source": [
    "data.describe()"
   ]
  },
  {
   "cell_type": "markdown",
   "id": "2f4ccac1",
   "metadata": {},
   "source": [
    "### finding correlation matrix"
   ]
  },
  {
   "cell_type": "code",
   "execution_count": 26,
   "id": "dbed0348",
   "metadata": {},
   "outputs": [
    {
     "data": {
      "image/png": "[encoded data removed]",
      "text/plain": [
       "<Figure size 720x576 with 2 Axes>"
      ]
     },
     "metadata": {
      "needs_background": "light"
     },
     "output_type": "display_data"
    }
   ],
   "source": [
    "numeric_data = data.select_dtypes(include=['float64', 'int64']).drop(columns=['latitude', 'longitude','numericChange'])\n",
    "\n",
    "corr_matrix = numeric_data.corr()\n",
    "\n",
    "plt.figure(figsize=(10, 8))\n",
    "sns.heatmap(corr_matrix, annot=True, cmap=\"coolwarm\", fmt=\".2f\", linewidths=0.5)\n",
    "plt.title(\"Correlation Matrix Heatmap\")\n",
    "plt.show()\n"
   ]
  },
  {
   "cell_type": "code",
   "execution_count": null,
   "id": "15f0673a",
   "metadata": {},
   "outputs": [],
   "source": []
  }
 ],
 "metadata": {
  "kernelspec": {
   "display_name": "Python 3 (ipykernel)",
   "language": "python",
   "name": "python3"
  },
  "language_info": {
   "codemirror_mode": {
    "name": "ipython",
    "version": 3
   },
   "file_extension": ".py",
   "mimetype": "text/x-python",
   "name": "python",
   "nbconvert_exporter": "python",
   "pygments_lexer": "ipython3",
   "version": "3.9.12"
  }
 },
 "nbformat": 4,
 "nbformat_minor": 5
}
